{
  "cells": [
    {
      "cell_type": "markdown",
      "id": "bdfbcacc",
      "metadata": {
        "id": "bdfbcacc"
      },
      "source": [
        "<img src=\"https://github.com/4GeeksAcademy/machine-learning-prework/blob/main/02-numpy/assets/numpy_logo.png?raw=1\" alt=\"logo\" width=\"400\"/>\n",
        "\n",
        "## Introduction to numpy\n",
        "\n",
        "NumPy stands for 'Numerical Python'. It is an open-source Python library used to perform various mathematical and scientific tasks. It contains multi-dimensional arrays and matrixes, along with many high-level mathematical functions that operate on them. It contains among other things:\n",
        "\n",
        "→ a powerful N-dimensional array object.\n",
        "\n",
        "→ sophisticated (broadcasting) functions.\n",
        "\n",
        "→ tools for integrating C/C++ and Fortran code.\n",
        "\n",
        "→ useful linear algebra, Fourier transform, and random number capabilities."
      ]
    },
    {
      "cell_type": "markdown",
      "id": "85902746",
      "metadata": {
        "id": "85902746"
      },
      "source": [
        "## Installing NumPy\n",
        "When you want to work with numpy locally, you should run the following commands:\n",
        "\n",
        "You can install NumPy with:\\\n",
        "`pip install numpy`\\\n",
        "or\\\n",
        "`conda install numpy`\n",
        "\n",
        "In our case, 4Geeks have prepared all the environment in order that you can work comfortably."
      ]
    },
    {
      "cell_type": "markdown",
      "id": "58765356",
      "metadata": {
        "id": "58765356"
      },
      "source": [
        "## Why should we use NumPy?\n",
        "\n",
        "Numpy is a library that performs numerical calculations in python. We will use it mainly because it allows us to create, modify matrixes, and do operations on them with ease.\n",
        "\n",
        "NumPy is like Pandas, Matplotlib or Scikit-Learn. It is one of the packages that you cannot miss when you are studying Machine Learning. Mainly because this library provides a matrix data structure that has some benefits over regular Python lists. Some of these benefits are: being more compact, quicker access to reading and writing articles, more convenient and efficient.\n",
        "\n",
        "For example, we will see later in the bootcamp that working with images is dealing with three-dimensional matrixes as large as 3840 x 2160, which means we will have 3×3840×2160 = 24883200 entries!!! 😱😱😱.\n",
        "\n",
        "Working with matrixes of that magnitude is practically impossible to carry out with lists and dictionaries if one wants to have an efficient and fast programming."
      ]
    },
    {
      "cell_type": "markdown",
      "id": "c4e52ee5",
      "metadata": {
        "id": "c4e52ee5"
      },
      "source": [
        "#### Exercise: Import the numpy package under the name `np` (★☆☆)\n",
        "\n",
        "`numpy` is commonly imported as `np` so we highly recommend to put this alias."
      ]
    },
    {
      "cell_type": "code",
      "execution_count": 1,
      "id": "ea3038d9",
      "metadata": {
        "id": "ea3038d9"
      },
      "outputs": [],
      "source": [
        "import numpy as np"
      ]
    },
    {
      "cell_type": "markdown",
      "id": "40631cd6",
      "metadata": {
        "id": "40631cd6"
      },
      "source": [
        "## What is an array and why it is important for Machine Learning?\n",
        "\n",
        "An array is a data structure consisting of a collection of elements (values or variables), each identified by at least one index or key.\n"
      ]
    },
    {
      "cell_type": "markdown",
      "id": "ce969254",
      "metadata": {
        "id": "ce969254"
      },
      "source": [
        "![alt text](assets/1D.png \"1D\")"
      ]
    },
    {
      "cell_type": "markdown",
      "id": "735d02e2",
      "metadata": {
        "id": "735d02e2"
      },
      "source": [
        "An array is known as the central data structure of the Numpy library; it can also be of several dimensions. For example, neural networks sometimes deal with 4D arrays.\n",
        "\n",
        "Later on, we are also going to use another kind of arrays called: Tensors."
      ]
    },
    {
      "cell_type": "markdown",
      "id": "a20ce3a4",
      "metadata": {
        "id": "a20ce3a4"
      },
      "source": [
        "![alt text](./assets/3D.png \"3D\")"
      ]
    },
    {
      "cell_type": "markdown",
      "id": "46950f4f",
      "metadata": {
        "id": "46950f4f"
      },
      "source": [
        "#### Exercise: Print the version and configuration of numpy (★☆☆)\n",
        "\n",
        "You can print the version of any package of Python using `name_of_package.__version__`"
      ]
    },
    {
      "cell_type": "code",
      "execution_count": null,
      "id": "2a9f5838",
      "metadata": {
        "id": "2a9f5838",
        "outputId": "30939074-c8c4-433e-e91d-dfca33c6ec9d"
      },
      "outputs": [
        {
          "name": "stdout",
          "output_type": "stream",
          "text": [
            "1.21.3\n"
          ]
        }
      ],
      "source": [
        "import numpy as np\n",
        "print(np.__version__)"
      ]
    },
    {
      "cell_type": "markdown",
      "id": "e3c20b3d",
      "metadata": {
        "id": "e3c20b3d"
      },
      "source": [
        "#### Exercise: Create a null vector of size 10 (★☆☆)\n",
        "\n",
        "A `null vector` is an array of zeros (`0`), also called `initialization vector`.\n",
        "\n",
        ">Check de function `np.zeros` (https://numpy.org/doc/stable/reference/generated/numpy.zeros.html)"
      ]
    },
    {
      "cell_type": "code",
      "execution_count": null,
      "id": "8a758bcf",
      "metadata": {
        "id": "8a758bcf",
        "outputId": "02691ce5-9956-4252-ae96-f1038b745c59"
      },
      "outputs": [
        {
          "data": {
            "text/plain": [
              "array([], dtype=float64)"
            ]
          },
          "execution_count": 9,
          "metadata": {},
          "output_type": "execute_result"
        }
      ],
      "source": [
        "np.zeros(0)"
      ]
    },
    {
      "cell_type": "markdown",
      "id": "6cbe7954",
      "metadata": {
        "id": "6cbe7954"
      },
      "source": [
        "#### Exercise: Create a vector of ones with size 10 (★☆☆)\n",
        "\n",
        ">Check de function `np.ones` (https://numpy.org/doc/stable/reference/generated/numpy.ones.html)"
      ]
    },
    {
      "cell_type": "code",
      "execution_count": 24,
      "id": "86477874",
      "metadata": {
        "colab": {
          "base_uri": "https://localhost:8080/"
        },
        "id": "86477874",
        "outputId": "2565ebc0-9345-416a-860d-3493883bcf76"
      },
      "outputs": [
        {
          "output_type": "execute_result",
          "data": {
            "text/plain": [
              "array([1., 1., 1., 1., 1., 1., 1., 1., 1., 1.])"
            ]
          },
          "metadata": {},
          "execution_count": 24
        }
      ],
      "source": [
        "np.ones(10)\n"
      ]
    },
    {
      "cell_type": "markdown",
      "id": "0a708990",
      "metadata": {
        "id": "0a708990"
      },
      "source": [
        "#### Exercise: Create an 1D array with a specific start value, end value, and number of values (★☆☆)\n",
        "\n",
        ">Check the function `np.linspace` (https://numpy.org/doc/stable/reference/generated/numpy.linspace.html)"
      ]
    },
    {
      "cell_type": "code",
      "execution_count": 25,
      "id": "477e01f4",
      "metadata": {
        "colab": {
          "base_uri": "https://localhost:8080/"
        },
        "id": "477e01f4",
        "outputId": "1d0131e4-4bd3-44b3-d962-aea60bf8ef0d"
      },
      "outputs": [
        {
          "output_type": "stream",
          "name": "stdout",
          "text": [
            "[ 1.  2.  3.  4.  5.  6.  7.  8.  9. 10.]\n"
          ]
        }
      ],
      "source": [
        "arr = np.linspace(1,10,10) #Los primeros dos números son el rango y el segundo es cuántos números querés que te de dentro de ese rango\n",
        "print(arr)"
      ]
    },
    {
      "cell_type": "markdown",
      "id": "782d4c77",
      "metadata": {
        "id": "782d4c77"
      },
      "source": [
        "#### Run: Create a vector (1D array) with random integers from 10 to 49 and dimension 1x35 (★☆☆)\n",
        "\n",
        "When `dimension` is expressed `1x35` it means: One dimension array with 35 items (length=35).\n",
        "\n",
        ">Check the function `np.random` which allows you to create random arrays (https://numpy.org/doc/1.16/reference/routines.random.html)"
      ]
    },
    {
      "cell_type": "code",
      "execution_count": 12,
      "id": "5dbe1a08",
      "metadata": {
        "colab": {
          "base_uri": "https://localhost:8080/"
        },
        "id": "5dbe1a08",
        "outputId": "79e6ce48-8999-4e96-d4c2-dc7700b37edd"
      },
      "outputs": [
        {
          "output_type": "stream",
          "name": "stdout",
          "text": [
            "[0.43087986 0.72103306 0.47151522 0.23687834 0.70334544 0.4092005\n",
            " 0.11314331 0.23216487 0.20623393 0.85713126]\n"
          ]
        }
      ],
      "source": [
        "import numpy as np\n",
        "\n",
        "## 10 random numbers between (0, 1)\n",
        "print(np.random.random(10)) "
      ]
    },
    {
      "cell_type": "code",
      "execution_count": 13,
      "id": "a9354456",
      "metadata": {
        "colab": {
          "base_uri": "https://localhost:8080/"
        },
        "id": "a9354456",
        "outputId": "f4e58098-c86d-4fee-c23f-1af6314b566b"
      },
      "outputs": [
        {
          "output_type": "stream",
          "name": "stdout",
          "text": [
            "[0.90539831 0.56541119 0.40506733 0.50017926 0.87150183 0.8330067\n",
            " 0.70177185 0.89034408 0.46626476 0.75809584]\n",
            "[-0.0313796  -0.58225436 -0.0475956  -0.07633337 -0.77022581  1.12191773\n",
            "  0.65889789 -0.24478709  0.07423343 -0.67825699]\n"
          ]
        }
      ],
      "source": [
        "## Two ways to create numbers with normal distribution\n",
        "print(np.random.rand(10)) # 10 random values with distribution N(0,1)\n",
        "print(np.random.normal(loc = 0, scale = 1, size = 10)) # 10 random values with distribution N(0,1)"
      ]
    },
    {
      "cell_type": "code",
      "execution_count": 14,
      "id": "73ed6271",
      "metadata": {
        "colab": {
          "base_uri": "https://localhost:8080/"
        },
        "id": "73ed6271",
        "outputId": "97d3c841-a120-41c9-d3d8-db8e61b94354"
      },
      "outputs": [
        {
          "output_type": "stream",
          "name": "stdout",
          "text": [
            "[ 35.21051698  23.96934883   9.80640078 -22.09821086 -26.49478407\n",
            "  33.4162963  -44.19768962 -18.01654252 -28.16827343   4.5910044 ]\n"
          ]
        }
      ],
      "source": [
        "## Did you notice the difference between both functions? \n",
        "print(np.random.normal(loc = -5, scale = 33, size = 10)) # 10 random values with distribution N(-5,33)"
      ]
    },
    {
      "cell_type": "code",
      "execution_count": 15,
      "id": "49ae7a5a",
      "metadata": {
        "colab": {
          "base_uri": "https://localhost:8080/"
        },
        "id": "49ae7a5a",
        "outputId": "0b61904d-3a55-4422-b96c-3fa5210083f1"
      },
      "outputs": [
        {
          "output_type": "stream",
          "name": "stdout",
          "text": [
            "[ 14.12221079  22.40470776  56.42107696  67.36979851 -21.6208721\n",
            " -15.0581771   18.01676064 -10.45290255  71.5422726   75.11753778]\n"
          ]
        }
      ],
      "source": [
        "## 10 random values with uniform distribution. That means, all values have the same probability\n",
        "print(np.random.uniform(-30,100,10)) # All values are between -30 and 100."
      ]
    },
    {
      "cell_type": "code",
      "execution_count": 16,
      "id": "f78e72cb",
      "metadata": {
        "colab": {
          "base_uri": "https://localhost:8080/"
        },
        "id": "f78e72cb",
        "outputId": "5ace8944-0bf4-4e0a-ad0a-ad916af49002"
      },
      "outputs": [
        {
          "output_type": "stream",
          "name": "stdout",
          "text": [
            "[41 80 72 66 48 30 29 42 33 17]\n"
          ]
        }
      ],
      "source": [
        "# 10 integers values between 0 and 100.\n",
        "print(np.random.randint(0, 100, 10))"
      ]
    },
    {
      "cell_type": "code",
      "execution_count": 17,
      "id": "db278431",
      "metadata": {
        "colab": {
          "base_uri": "https://localhost:8080/"
        },
        "id": "db278431",
        "outputId": "7949cd08-26e3-4b71-db29-77dbf8b8538b"
      },
      "outputs": [
        {
          "output_type": "stream",
          "name": "stdout",
          "text": [
            "[2.88368438 4.21098625 1.27295431 3.59547126 3.5829589  4.02497372\n",
            " 3.32953161 3.96577296 1.81631072 8.7044592 ]\n"
          ]
        }
      ],
      "source": [
        "# 10 random values with Chi distribution with 5 degrees of freedom\n",
        "print(np.random.chisquare(5,10))"
      ]
    },
    {
      "cell_type": "markdown",
      "id": "1b7841da",
      "metadata": {
        "id": "1b7841da"
      },
      "source": [
        "The above examples are the most common distribution and random values you will learn throughout the bootcamp. Now, let's deal with those arrays."
      ]
    },
    {
      "cell_type": "markdown",
      "id": "48d48f01",
      "metadata": {
        "id": "48d48f01"
      },
      "source": [
        "#### Exercise: Reverse one of the last vector we created before (first element becomes last) (★☆☆)\n",
        "Try with `[::-1]`"
      ]
    },
    {
      "cell_type": "code",
      "execution_count": 26,
      "id": "3ed233e7",
      "metadata": {
        "colab": {
          "base_uri": "https://localhost:8080/"
        },
        "id": "3ed233e7",
        "outputId": "b08ec72a-ad03-42f3-b9c6-3c6bc68a4a07"
      },
      "outputs": [
        {
          "output_type": "execute_result",
          "data": {
            "text/plain": [
              "array([10.,  9.,  8.,  7.,  6.,  5.,  4.,  3.,  2.,  1.])"
            ]
          },
          "metadata": {},
          "execution_count": 26
        }
      ],
      "source": [
        "arr[::-1] #Lo da vuelta, ahora arranca en 10"
      ]
    },
    {
      "cell_type": "markdown",
      "id": "4fa39382",
      "metadata": {
        "id": "4fa39382"
      },
      "source": [
        "#### Exercise: Create a 5x5 identity matrix (★☆☆)\n",
        "\n",
        ">Check the function `np.eye`(https://numpy.org/devdocs/reference/generated/numpy.eye.html)"
      ]
    },
    {
      "cell_type": "code",
      "execution_count": 27,
      "id": "c97757ec",
      "metadata": {
        "colab": {
          "base_uri": "https://localhost:8080/"
        },
        "id": "c97757ec",
        "outputId": "b2dcb288-13d5-42d2-fb28-9232f84ab362"
      },
      "outputs": [
        {
          "output_type": "execute_result",
          "data": {
            "text/plain": [
              "array([[1, 0, 0, 0, 0],\n",
              "       [0, 1, 0, 0, 0],\n",
              "       [0, 0, 1, 0, 0],\n",
              "       [0, 0, 0, 1, 0],\n",
              "       [0, 0, 0, 0, 1]])"
            ]
          },
          "metadata": {},
          "execution_count": 27
        }
      ],
      "source": [
        "np.eye(5, dtype=int)"
      ]
    },
    {
      "cell_type": "markdown",
      "id": "da64551a",
      "metadata": {
        "id": "da64551a"
      },
      "source": [
        "#### Exercise: Find indexes of non-zero elements from [1,2,0,0,4,0] (★☆☆)\n",
        "\n",
        ">Check the function `where`(https://numpy.org/devdocs/reference/generated/numpy.where.html)"
      ]
    },
    {
      "cell_type": "code",
      "execution_count": 47,
      "id": "327f7adb",
      "metadata": {
        "colab": {
          "base_uri": "https://localhost:8080/"
        },
        "id": "327f7adb",
        "outputId": "3a20c981-641f-4fca-fd78-da3a79d96edc"
      },
      "outputs": [
        {
          "output_type": "stream",
          "name": "stdout",
          "text": [
            "[1 2 0 0 4 0]\n",
            "(array([0, 1, 4]),)\n"
          ]
        }
      ],
      "source": [
        "array = np.array([1,2,0,0,4,0])\n",
        "print(array)\n",
        "\n",
        "result = np.where(array != 0) \n",
        "print(result)"
      ]
    },
    {
      "cell_type": "markdown",
      "id": "13c5928c",
      "metadata": {
        "id": "13c5928c"
      },
      "source": [
        "#### Exercise: Create a 10x10 array with random values and find the minimum and maximum values (★☆☆)\n",
        "\n",
        ">Check the function `min` (https://numpy.org/devdocs/reference/generated/numpy.where.html) and `max` (https://numpy.org/devdocs/reference/generated/numpy.max.html)"
      ]
    },
    {
      "cell_type": "code",
      "execution_count": 52,
      "id": "911c9b93",
      "metadata": {
        "colab": {
          "base_uri": "https://localhost:8080/"
        },
        "id": "911c9b93",
        "outputId": "85a2eb48-11c6-4b69-d3ac-03dda06b37e7"
      },
      "outputs": [
        {
          "output_type": "stream",
          "name": "stdout",
          "text": [
            "[[0.97832093 0.37497549 0.74266643 0.75563358 0.26311324 0.97949851\n",
            "  0.24335776 0.69255619 0.35761331 0.3713378 ]\n",
            " [0.94633024 0.9004909  0.30624332 0.6275659  0.51617259 0.18931881\n",
            "  0.44441151 0.83037155 0.39884524 0.66598111]\n",
            " [0.34110222 0.85252363 0.44188679 0.48912819 0.81382455 0.36419444\n",
            "  0.12066997 0.749115   0.8617281  0.41819554]\n",
            " [0.65952601 0.52558779 0.02070803 0.31687249 0.3361686  0.65836819\n",
            "  0.19136322 0.84256322 0.88942472 0.98316721]\n",
            " [0.67783029 0.88907057 0.32526742 0.17923613 0.50415666 0.07224429\n",
            "  0.55743252 0.79532807 0.34426376 0.28156657]\n",
            " [0.78762507 0.81840704 0.98925335 0.21503217 0.71468886 0.43893263\n",
            "  0.75412984 0.14967717 0.53306467 0.89755525]\n",
            " [0.20814438 0.69602494 0.51339101 0.70691035 0.22162758 0.56857725\n",
            "  0.79854827 0.63690405 0.77989537 0.63292271]\n",
            " [0.17763636 0.11711729 0.39153739 0.13558434 0.10238222 0.13960736\n",
            "  0.76513885 0.74662236 0.25864038 0.18265671]\n",
            " [0.5802253  0.92517609 0.24598149 0.15797685 0.46246608 0.38920515\n",
            "  0.70664023 0.73294245 0.17374142 0.918631  ]\n",
            " [0.17625863 0.84558207 0.85841211 0.70025579 0.36961947 0.7543807\n",
            "  0.55525398 0.32377172 0.44962977 0.0959432 ]]\n",
            "Max and min values:\n",
            "0.9892533471005273\n",
            "0.02070802627828483\n"
          ]
        }
      ],
      "source": [
        "x = np.random.random((10,10))\n",
        "print(x)\n",
        "\n",
        "print(\"Max and min values:\")\n",
        "print(x.max())\n",
        "print(x.min())"
      ]
    },
    {
      "cell_type": "markdown",
      "id": "3fa2e461",
      "metadata": {
        "id": "3fa2e461"
      },
      "source": [
        "#### Exercise: Create a random vector of size 30 and find the mean value (★☆☆)"
      ]
    },
    {
      "cell_type": "code",
      "execution_count": 61,
      "id": "323eb38a",
      "metadata": {
        "colab": {
          "base_uri": "https://localhost:8080/"
        },
        "id": "323eb38a",
        "outputId": "798fae39-8326-4781-d3c8-f55167197402"
      },
      "outputs": [
        {
          "output_type": "stream",
          "name": "stdout",
          "text": [
            "0.4739607951810825\n",
            "0.5375841392112347\n"
          ]
        }
      ],
      "source": [
        "print(np.random.random(30).mean())\n",
        "\n",
        "v = np.random.random(30)\n",
        "print(np.mean(v))\n",
        "\n",
        "#Dos formas de hacerlo, los resultados dan distintos porque los números random que crea no son los mismos"
      ]
    },
    {
      "cell_type": "markdown",
      "id": "961f074f",
      "metadata": {
        "id": "961f074f"
      },
      "source": [
        "#### Exercise: Define a function with your date of birth (yyyy/mm/dd) as imput, that returns a random array with the following dimensions: (★★☆)\n",
        "\n",
        "$$yyyy-1900 \\times |mm - dd|$$"
      ]
    },
    {
      "cell_type": "code",
      "execution_count": null,
      "id": "d3f49255",
      "metadata": {
        "id": "d3f49255"
      },
      "outputs": [],
      "source": [
        "### Pending ###"
      ]
    },
    {
      "cell_type": "markdown",
      "id": "ff8dbb92",
      "metadata": {
        "id": "ff8dbb92"
      },
      "source": [
        "## What is the difference between Python List and a Numpy Array?\n",
        "\n",
        "- Python list can contain elements with different data types, while Numpy Array‘s elements are always homogeneous (same data types).\n",
        "\n",
        "- Numpy arrays are faster and more compact than Python lists.\n",
        "\n",
        "## Why Numpy Arrays are faster than Lists?\n",
        "\n",
        "- Numpy Arrays use fixed memory to store data and less memory than Python lists.\n",
        "\n",
        "- Contiguous memory allocation in Numpy Arrays."
      ]
    },
    {
      "cell_type": "markdown",
      "id": "e3a7ba7f",
      "metadata": {
        "id": "e3a7ba7f"
      },
      "source": [
        "#### Exercise: Convert the list `my_list = [1, 2, 3]` to numpy array (★☆☆)"
      ]
    },
    {
      "cell_type": "code",
      "execution_count": 62,
      "id": "01d8e257",
      "metadata": {
        "colab": {
          "base_uri": "https://localhost:8080/"
        },
        "id": "01d8e257",
        "outputId": "c461c6b1-e5a9-409f-efc2-700066f91714"
      },
      "outputs": [
        {
          "output_type": "stream",
          "name": "stdout",
          "text": [
            "[1 2 3]\n"
          ]
        }
      ],
      "source": [
        "my_list = [1, 2, 3]\n",
        "my_list_arr = np.array(my_list)\n",
        "print(my_list_arr)"
      ]
    },
    {
      "cell_type": "markdown",
      "id": "6d17ab5d",
      "metadata": {
        "id": "6d17ab5d"
      },
      "source": [
        "#### Exercise: Convert the tuple `my_list = (1, 2, 3)` to numpy array (★☆☆)"
      ]
    },
    {
      "cell_type": "code",
      "execution_count": 63,
      "id": "841373cd",
      "metadata": {
        "colab": {
          "base_uri": "https://localhost:8080/"
        },
        "id": "841373cd",
        "outputId": "1aa41863-f054-49fb-fca1-6ca20b589e05"
      },
      "outputs": [
        {
          "output_type": "stream",
          "name": "stdout",
          "text": [
            "(1, 2, 3)\n",
            "[1 2 3]\n"
          ]
        }
      ],
      "source": [
        "my_list_tuple = (1, 2, 3)\n",
        "print(my_list_tuple)\n",
        "\n",
        "my_list_tuplearray = np.array(my_list_tuple)\n",
        "print(my_list_tuplearray)"
      ]
    },
    {
      "cell_type": "markdown",
      "id": "8837119b",
      "metadata": {
        "id": "8837119b"
      },
      "source": [
        "#### Exercise: Convert the list of tuples `my_list = [(1,2,3), (4,5)]` to numpy array (★☆☆)"
      ]
    },
    {
      "cell_type": "code",
      "execution_count": 74,
      "id": "2c0d16f1",
      "metadata": {
        "colab": {
          "base_uri": "https://localhost:8080/"
        },
        "id": "2c0d16f1",
        "outputId": "d07d2c7c-e531-463f-925f-f9e34658d137"
      },
      "outputs": [
        {
          "output_type": "stream",
          "name": "stdout",
          "text": [
            "[(1, 2, 3), (4, 5)]\n",
            "[(1, 2, 3) (4, 5)]\n"
          ]
        }
      ],
      "source": [
        "my_lists = [(1,2,3), (4,5)]\n",
        "print(my_lists)\n",
        "\n",
        "my_arrays = np.array(my_lists, dtype=object) #Creating an ndarray from ragged nested sequences (which is a list-or-tuple of lists-or-tuples-or ndarrays with different lengths or shapes) is deprecated. If you meant to do this, you must specify 'dtype=object' when creating the ndarray. after removing the cwd from sys.path.\n",
        "print(my_arrays)"
      ]
    },
    {
      "cell_type": "markdown",
      "id": "ec788c9f",
      "metadata": {
        "id": "ec788c9f"
      },
      "source": [
        "#### Exercise: Resize a random array of dimensions 5x12 into 12x5 (★☆☆)\n",
        "\n",
        ">Check `reshape` from `numpy` (https://numpy.org/doc/stable/reference/generated/numpy.reshape.html)"
      ]
    },
    {
      "cell_type": "code",
      "execution_count": 73,
      "id": "0a4f919f",
      "metadata": {
        "colab": {
          "base_uri": "https://localhost:8080/"
        },
        "id": "0a4f919f",
        "outputId": "76643ca9-d8ef-4438-bf4c-c9aae08016ce"
      },
      "outputs": [
        {
          "output_type": "stream",
          "name": "stdout",
          "text": [
            "Original:\n",
            "[[0.15176132 0.82276614 0.03139852 0.93518551 0.21968369 0.71510595\n",
            "  0.81332459 0.36883635 0.33581399 0.90311136 0.49076693 0.31198884]\n",
            " [0.89016837 0.47786849 0.31235142 0.58864071 0.96893625 0.38142503\n",
            "  0.70075547 0.53650472 0.23189815 0.89478847 0.50041476 0.79473684]\n",
            " [0.76471874 0.11620723 0.84981172 0.20417439 0.13001444 0.23269684\n",
            "  0.61092587 0.29699868 0.93874293 0.14267052 0.58944355 0.2095158 ]\n",
            " [0.47118495 0.53959984 0.49890112 0.07910005 0.58707695 0.61362032\n",
            "  0.41698019 0.96354521 0.2897728  0.44951028 0.55112513 0.23288693]\n",
            " [0.05382715 0.02736944 0.79811913 0.66952884 0.52578968 0.63213763\n",
            "  0.72097156 0.1604199  0.82701753 0.1508382  0.29398374 0.08474097]]\n",
            "Reshaped:\n",
            "[[0.15176132 0.82276614 0.03139852 0.93518551 0.21968369 0.71510595\n",
            "  0.81332459 0.36883635 0.33581399 0.90311136 0.49076693 0.31198884]\n",
            " [0.89016837 0.47786849 0.31235142 0.58864071 0.96893625 0.38142503\n",
            "  0.70075547 0.53650472 0.23189815 0.89478847 0.50041476 0.79473684]\n",
            " [0.76471874 0.11620723 0.84981172 0.20417439 0.13001444 0.23269684\n",
            "  0.61092587 0.29699868 0.93874293 0.14267052 0.58944355 0.2095158 ]\n",
            " [0.47118495 0.53959984 0.49890112 0.07910005 0.58707695 0.61362032\n",
            "  0.41698019 0.96354521 0.2897728  0.44951028 0.55112513 0.23288693]\n",
            " [0.05382715 0.02736944 0.79811913 0.66952884 0.52578968 0.63213763\n",
            "  0.72097156 0.1604199  0.82701753 0.1508382  0.29398374 0.08474097]]\n"
          ]
        }
      ],
      "source": [
        "print(\"Original:\")\n",
        "b= np.random.random((5,12))\n",
        "print(b)\n",
        "\n",
        "print(\"Reshaped:\")\n",
        "np.reshape(b, (12,5))\n",
        "print(b)"
      ]
    },
    {
      "cell_type": "markdown",
      "id": "391791e0",
      "metadata": {
        "id": "391791e0"
      },
      "source": [
        "#### Exercise: Create a function that normalize a 5x5 random matrix (★☆☆)\n",
        "\n",
        ">Remember from probability (https://en.wikipedia.org/wiki/Normalization_(statistics)) that :\n",
        "$$ x_{norm} = \\frac{x - \\bar{x}}{\\sigma}$$\n"
      ]
    },
    {
      "cell_type": "code",
      "execution_count": 81,
      "id": "f6533d39",
      "metadata": {
        "colab": {
          "base_uri": "https://localhost:8080/"
        },
        "id": "f6533d39",
        "outputId": "e981bdf2-26da-4327-9cf5-01d5fe6237a9"
      },
      "outputs": [
        {
          "output_type": "stream",
          "name": "stdout",
          "text": [
            "Sin normalizar:\n",
            "[[0.03538563 0.50635809 0.96534138 0.11094453 0.67211712]\n",
            " [0.30819889 0.55580487 0.35431658 0.65368258 0.73936261]\n",
            " [0.43231917 0.28722277 0.89083141 0.90674383 0.85514612]\n",
            " [0.12800081 0.59465089 0.37139057 0.00292642 0.33701222]\n",
            " [0.46956842 0.85007319 0.13481576 0.19666632 0.51691068]]\n",
            "Normalizada:\n",
            "[[-5.43920302  0.38756399  6.06600364 -4.50440503  2.438298  ]\n",
            " [-2.06401781  0.99930857 -1.49345988  2.21023     3.27024434]\n",
            " [-0.52842915 -2.32352965  5.14418272  5.3410477   4.7026922 ]\n",
            " [-4.29338859  1.47990297 -1.2822243  -5.84078124 -1.7075457 ]\n",
            " [-0.06758964  4.63993109 -4.2090755  -3.44387402  0.51811832]]\n"
          ]
        }
      ],
      "source": [
        "print(\"Sin normalizar:\")\n",
        "c= np.random.random((5,5)) #Creates random 5x5 matrix\n",
        "print(c)\n",
        "\n",
        "def norm(matrix):\n",
        "  return(matrix-matrix.mean())/matrix.var()\n",
        "\n",
        "print(\"Normalizada:\")\n",
        "print(norm(c))"
      ]
    },
    {
      "cell_type": "markdown",
      "id": "d2d143f1",
      "metadata": {
        "id": "d2d143f1"
      },
      "source": [
        "## Stacking numpy arrays\n",
        "\n",
        "Stacking is used to join a sequence of same dimension arrays along a new axis.\n",
        "\n",
        "`numpy.stack(arrays,axis)` : It returns a stacked array of the input arrays which has one more dimension than the input arrays.\n",
        "\n",
        "### You have two ways to do it:\n",
        "\n",
        "\n",
        "![alt text](./assets/stack.jpeg \"stack\")\n",
        "\n",
        "\n",
        "### or\n",
        "\n",
        "\n",
        "![alt text](./assets/stack2.jpeg \"stack\")\n",
        "\n",
        "\n"
      ]
    },
    {
      "cell_type": "markdown",
      "id": "1e74d39e",
      "metadata": {
        "id": "1e74d39e"
      },
      "source": [
        "#### Exercise: Generate two random arrays with integers and apply the stacking using `stack` (★★☆)"
      ]
    },
    {
      "cell_type": "code",
      "execution_count": 99,
      "id": "3f639d33",
      "metadata": {
        "colab": {
          "base_uri": "https://localhost:8080/"
        },
        "id": "3f639d33",
        "outputId": "0c724c76-8929-49aa-e9ad-7b88a717d838"
      },
      "outputs": [
        {
          "output_type": "stream",
          "name": "stdout",
          "text": [
            "Random array R:\n",
            "[3 0 1 0 4 3]\n",
            "Random array S:\n",
            "[6 3 0 3 2 6]\n",
            "Axis = default:\n",
            "[[3 0 1 0 4 3]\n",
            " [6 3 0 3 2 6]]\n",
            "Axis = 0:\n",
            "[[3 0 1 0 4 3]\n",
            " [6 3 0 3 2 6]]\n",
            "Axis = -1:\n",
            "[[3 6]\n",
            " [0 3]\n",
            " [1 0]\n",
            " [0 3]\n",
            " [4 2]\n",
            " [3 6]]\n"
          ]
        }
      ],
      "source": [
        "print(\"Random array R:\")\n",
        "r = np.random.randint(9, size=6) #Esto crea un array con números de 0 a 9 y tamaño 6\n",
        "print(r)\n",
        "\n",
        "print(\"Random array S:\")\n",
        "s = np.random.randint(9, size=6)\n",
        "print(s)\n",
        "\n",
        "print(\"Axis = default:\") #Igual a 0\n",
        "print(np.stack((r,s)))\n",
        "\n",
        "print(\"Axis = 0:\")\n",
        "print(np.stack((r,s), axis = 0))\n",
        "\n",
        "print(\"Axis = -1:\")\n",
        "print(np.stack((r,s), axis = -1))"
      ]
    },
    {
      "cell_type": "markdown",
      "id": "78250c14",
      "metadata": {
        "id": "78250c14"
      },
      "source": [
        "#### Exercise: Generate two random arrays with integers and apply the stacking using `hstack` and `vstack` (★★☆)"
      ]
    },
    {
      "cell_type": "code",
      "execution_count": 103,
      "id": "9fe729cb",
      "metadata": {
        "colab": {
          "base_uri": "https://localhost:8080/"
        },
        "id": "9fe729cb",
        "outputId": "09c883ab-567b-4db6-e902-2d4de8d87785"
      },
      "outputs": [
        {
          "output_type": "stream",
          "name": "stdout",
          "text": [
            "Random array R:\n",
            "[7 7 5 1 8 0]\n",
            "Random array S:\n",
            "[1 0 0 3 6 1]\n",
            "hstack:\n",
            "[7 7 5 1 8 0 1 0 0 3 6 1]\n",
            "vstack:\n",
            "[[7 7 5 1 8 0]\n",
            " [1 0 0 3 6 1]]\n"
          ]
        }
      ],
      "source": [
        "print(\"Random array R:\")\n",
        "r = np.random.randint(9, size=6) #Esto crea un array con números de 0 a 9 y tamaño 6.\n",
        "print(r)\n",
        "\n",
        "print(\"Random array S:\")\n",
        "s = np.random.randint(9, size=6)\n",
        "print(s)\n",
        "\n",
        "print(\"hstack:\")         \n",
        "#Stack arrays in sequence horizontally (column wise).\n",
        "#This is equivalent to concatenation along the second axis, except for 1-D arrays where it concatenates along the first axis.\n",
        "print(np.hstack((r, s)))\n",
        "\n",
        "print(\"vstack:\") \n",
        "#Stack arrays in sequence vertically (row wise).\n",
        "#This is equivalent to concatenation along the first axis after 1-D arrays of shape (N,) have been reshaped to (1,N).\n",
        "print(np.vstack((r, s)))"
      ]
    },
    {
      "cell_type": "markdown",
      "id": "51898680",
      "metadata": {
        "id": "51898680"
      },
      "source": [
        "## Basic maths in numpy\n",
        "\n",
        "You can make typical math operations like:\n",
        "\n",
        "- Addition,Subtraction,Multiplication and Division between two arrays using numpy.\n",
        "- Operation on arrays using sum() & cumsum() function.\n",
        "- Minimum and Maximum value from an array.\n",
        "- Exponent/Power , Square Root and Cube Root functions.\n",
        "\n",
        "or even apply common trigonometric functions:\n",
        "\n",
        "- `numpy.sin()`:  Sine (x) Function\n",
        "- `numpy.cos()`: Cosine(x) Function\n",
        "- `numpy.tan()`: Tangent(x) Function\n",
        "- `numpy.sinh()`: Hyperbolic Sine (x) Function\n",
        "- `numpy.cosh()`: Hyperbolic Cosine(x) Function\n",
        "- `numpy.tanh()`: Hyperbolic Tangent(x) Function\n",
        "- `numpy.arcsin()`: Inverse Sine(x) Function\n",
        "- `numpy.arccos()`: Inverse Cosine(x) Function\n",
        "- `numpy.arctan()`: Inverse Tangent(X) Function\n",
        "- `numpy.pi`: Pi value π\n",
        "- `numpy.hypot(w,h)`: For calculating Hypotenuse $c = \\sqrt{(w^2 + h^2)}$\n",
        "- `numpy.rad2deg()`: Radians to degrees\n",
        "- `numpy.deg2rad()`: Degrees to radians"
      ]
    },
    {
      "cell_type": "markdown",
      "id": "89e78048",
      "metadata": {
        "id": "89e78048"
      },
      "source": [
        "#### Exercise: Generate two random 8 - dimensional vectors and apply the most common operation between vectors:  addition, substraction, multiplication, division(★☆☆)\n",
        "\n",
        ">Check the math functions here: https://numpy.org/doc/stable/reference/routines.math.html"
      ]
    },
    {
      "cell_type": "code",
      "execution_count": 126,
      "id": "b62e9d1c",
      "metadata": {
        "colab": {
          "base_uri": "https://localhost:8080/"
        },
        "id": "b62e9d1c",
        "outputId": "b7b2894f-c171-4ba5-ff6e-9c184225e64a"
      },
      "outputs": [
        {
          "output_type": "stream",
          "name": "stdout",
          "text": [
            "Z random array:\n",
            "[0.38884807 0.7646445  0.08781092 0.46247974 0.08581915 0.6442948\n",
            " 0.09277352 0.52324652]\n",
            "Q random array:\n",
            "[0.28096941 0.99462147 0.68953307 0.75488859 0.43762634 0.6441904\n",
            " 0.09534139 0.66800713]\n",
            "Addition:\n",
            "7.615095037556219\n",
            "[0.66981748 1.75926597 0.777344   1.21736833 0.52344549 1.2884852\n",
            " 0.18811492 1.19125365]\n",
            "[3.04991722 4.56517781]\n",
            "Subtraction:\n",
            "[ 1.07878656e-01 -2.29976969e-01 -6.01722149e-01 -2.92408852e-01\n",
            " -3.51807183e-01  1.04393593e-04 -2.56787179e-03 -1.44760614e-01]\n",
            "Multiplication:\n",
            "[0.10925441 0.76053184 0.06054854 0.34912068 0.03755672 0.41504852\n",
            " 0.00884516 0.3495324 ]\n",
            "Division:\n",
            "[1.3839516  0.7687794  0.12734839 0.61264635 0.19610144 1.00016205\n",
            " 0.97306656 0.78329481]\n"
          ]
        }
      ],
      "source": [
        "print(\"Z random array:\")\n",
        "z = np.random.random(8) #Generates array with 8 random values\n",
        "print(z) \n",
        "\n",
        "print(\"Q random array:\")\n",
        "q = np.random.random(8)\n",
        "print(q)\n",
        "\n",
        "print(\"Addition:\")\n",
        "print(np.sum((z, q))) #axis=None will sum all of the elements of the input array\n",
        "print(np.sum((z, q), axis = 0)) #Suma \"verticalmente uno a uno y el output es un array de 8 elementos\"\n",
        "print(np.sum((z, q), axis = 1)) \n",
        "\n",
        "print(\"Subtraction:\")\n",
        "print(np.subtract(z, q))\n",
        "\n",
        "print(\"Multiplication:\")\n",
        "print(np.multiply(z,q))\n",
        "\n",
        "print(\"Division:\")\n",
        "print(np.divide(z,q))"
      ]
    },
    {
      "cell_type": "markdown",
      "id": "ebd10810",
      "metadata": {
        "id": "ebd10810"
      },
      "source": [
        "#### Exercise: Generate two random matrices with dimensions between 5 and 10. For example, try 5x7 vs 8x9. Were you able to do the matrix multiplication? why? (★★☆) "
      ]
    },
    {
      "cell_type": "code",
      "execution_count": 162,
      "id": "6ada209f",
      "metadata": {
        "colab": {
          "base_uri": "https://localhost:8080/",
          "height": 478
        },
        "id": "6ada209f",
        "outputId": "6b4b1376-d512-4f2e-f2b5-76f5fbf73647"
      },
      "outputs": [
        {
          "output_type": "stream",
          "name": "stdout",
          "text": [
            "[[0.8699427  0.65087443 0.58922114 0.62435058 0.69088604 0.9691484\n",
            "  0.18002801]\n",
            " [0.0856198  0.68540387 0.60649588 0.8023967  0.24380794 0.51288998\n",
            "  0.0514533 ]\n",
            " [0.94873762 0.70871581 0.56387234 0.89962484 0.8375227  0.66751889\n",
            "  0.37304089]\n",
            " [0.05751849 0.34021472 0.91558452 0.36506751 0.16101268 0.92762715\n",
            "  0.02945615]\n",
            " [0.07910327 0.26927203 0.56484912 0.00713254 0.45725708 0.61228681\n",
            "  0.27301228]]\n",
            "[[0.05103588 0.33006014 0.73406573 0.10865976 0.59943311]\n",
            " [0.68645207 0.83830275 0.62237779 0.23494344 0.46484813]\n",
            " [0.69554503 0.75323163 0.32538864 0.80684268 0.05397048]\n",
            " [0.25851199 0.71284805 0.85326089 0.1843308  0.72209459]\n",
            " [0.15760162 0.89664021 0.27433506 0.71653341 0.04296573]]\n"
          ]
        },
        {
          "output_type": "error",
          "ename": "ValueError",
          "evalue": "ignored",
          "traceback": [
            "\u001b[0;31m---------------------------------------------------------------------------\u001b[0m",
            "\u001b[0;31mValueError\u001b[0m                                Traceback (most recent call last)",
            "\u001b[0;32m<ipython-input-162-95c7ace9956a>\u001b[0m in \u001b[0;36m<module>\u001b[0;34m()\u001b[0m\n\u001b[1;32m      4\u001b[0m \u001b[0mprint\u001b[0m\u001b[0;34m(\u001b[0m\u001b[0mj\u001b[0m\u001b[0;34m)\u001b[0m\u001b[0;34m\u001b[0m\u001b[0;34m\u001b[0m\u001b[0m\n\u001b[1;32m      5\u001b[0m \u001b[0;34m\u001b[0m\u001b[0m\n\u001b[0;32m----> 6\u001b[0;31m \u001b[0mprint\u001b[0m\u001b[0;34m(\u001b[0m\u001b[0mnp\u001b[0m\u001b[0;34m.\u001b[0m\u001b[0mmultiply\u001b[0m\u001b[0;34m(\u001b[0m\u001b[0mk\u001b[0m\u001b[0;34m,\u001b[0m\u001b[0mj\u001b[0m\u001b[0;34m)\u001b[0m\u001b[0;34m)\u001b[0m \u001b[0;31m#No se puede multiplicar: \"operands could not be broadcast together with shapes (5,7) (5,5)\". Para multiplicar matrices nrow k tiene que ser igual a ncol b\u001b[0m\u001b[0;34m\u001b[0m\u001b[0;34m\u001b[0m\u001b[0m\n\u001b[0m\u001b[1;32m      7\u001b[0m \u001b[0;31m#(No es por esto aparentemente)\u001b[0m\u001b[0;34m\u001b[0m\u001b[0;34m\u001b[0m\u001b[0;34m\u001b[0m\u001b[0m\n",
            "\u001b[0;31mValueError\u001b[0m: operands could not be broadcast together with shapes (5,7) (5,5) "
          ]
        }
      ],
      "source": [
        "k= np.random.random((5,7)) #Creates random 5x7 matrix\n",
        "print(k)\n",
        "j= np.random.random((5,5)) #Creates random 8x9 matrix\n",
        "print(j)\n",
        "\n",
        "print(np.multiply(k,j)) #No se puede multiplicar: \"operands could not be broadcast together with shapes (5,7) (5,5)\". Para multiplicar matrices nrow k tiene que ser igual a ncol b\n",
        "#(No es por esto aparentemente)"
      ]
    },
    {
      "cell_type": "markdown",
      "id": "c0e940f8",
      "metadata": {
        "id": "c0e940f8"
      },
      "source": [
        "#### Exercise: Given 2 numpy arrays as matrices, output the result of multiplying the 2 matrices (as a numpy array) Were you able to do the matrix multiplication? (★★☆) \n",
        "\n",
        "$$ a = \\left(\\begin{matrix}\n",
        "0 & 1 & 2\\\\ \n",
        "3 & 4 & 5\\\\ \n",
        "6 & 7 & 8\n",
        "\\end{matrix}\\right)$$\n",
        "\n",
        "$$ b = \\left(\\begin{matrix}\n",
        "2 & 3 & 4\\\\ \n",
        "5 & 6 & 7\\\\ \n",
        "8 & 9 & 10\n",
        "\\end{matrix}\\right)$$\n",
        "\n",
        "\n"
      ]
    },
    {
      "cell_type": "code",
      "execution_count": 151,
      "id": "820dc7a5",
      "metadata": {
        "colab": {
          "base_uri": "https://localhost:8080/"
        },
        "id": "820dc7a5",
        "outputId": "fd1943e9-d807-48c3-ccab-3cdb5d22c972"
      },
      "outputs": [
        {
          "output_type": "stream",
          "name": "stdout",
          "text": [
            "[[0 1 2]\n",
            " [3 4 5]\n",
            " [6 7 8]]\n",
            "[[0 1 2]\n",
            " [3 4 5]\n",
            " [6 7 8]]\n",
            "[[ 21  24  27]\n",
            " [ 66  78  90]\n",
            " [111 132 153]]\n",
            "[[ 0  3  8]\n",
            " [15 24 35]\n",
            " [48 63 80]]\n"
          ]
        }
      ],
      "source": [
        "h = np.array([[0, 1, 2], [3, 4, 5], [6, 7, 8]])\n",
        "m = np.asmatrix(h)\n",
        "print(m)\n",
        "\n",
        "i = np.array([[2, 3, 4], [5, 6, 7], [8, 9, 10]])\n",
        "n = np.asmatrix(i)\n",
        "print(m)\n",
        "\n",
        "print(m*n) #Resultado matriz 3x3, multiplica columna por fila, o sea el primer valor resultante sale de hacer (0*2 + 5*1 + 2*8) y así sucesivamente\n",
        "print(np.multiply(m,n)) #Resultado matriz 3x3, multiplica posición por posición o sea 0*2, 1*3, 2*4, 3*5, etc."
      ]
    },
    {
      "cell_type": "markdown",
      "id": "22713c3f",
      "metadata": {
        "id": "22713c3f"
      },
      "source": [
        "#### Exercise: Multiply a 5x3 matrix by a 3x2 matrix (real matrix product) (★★☆)"
      ]
    },
    {
      "cell_type": "code",
      "execution_count": 163,
      "id": "a3e05c29",
      "metadata": {
        "colab": {
          "base_uri": "https://localhost:8080/"
        },
        "id": "a3e05c29",
        "outputId": "741183d6-1171-4b82-cf11-b139ad659cfb"
      },
      "outputs": [
        {
          "output_type": "stream",
          "name": "stdout",
          "text": [
            "Matriz random 5x3:\n",
            "[[0.56023013 0.47608196 0.23531093]\n",
            " [0.30322499 0.63889537 0.02859174]\n",
            " [0.24501275 0.27943607 0.64775075]\n",
            " [0.13056399 0.12688489 0.78440283]\n",
            " [0.01822151 0.00937891 0.55184434]]\n",
            "Matriz random 3x2:\n",
            "[[0.65817525 0.77026602]\n",
            " [0.71978405 0.67705531]\n",
            " [0.61003733 0.89362457]]\n",
            "Multiplicadas:\n",
            "[[0.85495426 0.96413968]\n",
            " [0.67688391 0.69168169]\n",
            " [0.75754709 0.95676466]\n",
            " [0.65577871 0.88743873]\n",
            " [0.35538938 0.51352711]]\n"
          ]
        }
      ],
      "source": [
        "print(\"Matriz random 5x3:\")\n",
        "ab= np.random.random((5,3))\n",
        "print(ab)\n",
        "print(\"Matriz random 3x2:\")\n",
        "cd= np.random.random((3,2)) \n",
        "print(cd)\n",
        "\n",
        "print(\"Multiplicadas:\")\n",
        "print(np.matmul(ab,cd)) #Esto hace la multiplicación de matrices tradicional"
      ]
    },
    {
      "cell_type": "markdown",
      "id": "4815930e",
      "metadata": {
        "id": "4815930e"
      },
      "source": [
        "## Data types\n",
        "\n",
        "Do you think the following preposition is true?\n",
        "\n",
        "`8==8`\n",
        "\n",
        "Surely you will definetely say yes, which is true mathematically, but computationally it is not always the same, at least in terms of memory. For example, run the following cell:"
      ]
    },
    {
      "cell_type": "code",
      "execution_count": 164,
      "id": "cd81c3c6",
      "metadata": {
        "colab": {
          "base_uri": "https://localhost:8080/"
        },
        "id": "cd81c3c6",
        "outputId": "966e03ab-e797-44f2-f9e7-f3b3d883378b"
      },
      "outputs": [
        {
          "output_type": "stream",
          "name": "stdout",
          "text": [
            "int64: 96\n",
            "int8: 89\n",
            "float32: 92\n"
          ]
        }
      ],
      "source": [
        "import sys\n",
        "\n",
        "# int64\n",
        "x = np.array(123)\n",
        "print(\"int64: \" + str(sys.getsizeof(x)))\n",
        "\n",
        "# int8\n",
        "x = np.array(123,dtype=np.int8)\n",
        "print(\"int8: \" + str(sys.getsizeof(x)))\n",
        "\n",
        "# float32\n",
        "x = np.array(123,dtype=np.float32)\n",
        "print(\"float32: \" + str(sys.getsizeof(x)))"
      ]
    },
    {
      "cell_type": "markdown",
      "id": "8e34f294",
      "metadata": {
        "id": "8e34f294"
      },
      "source": [
        "#### It turns out that there are many computational representation of the same number and you can create arrays with different Data Types (dtypes) depending on what you need:\n",
        "\n",
        "- Boolean : `np.bool_`\n",
        "- Char : `np.byte`\n",
        "- Short : `np.short`\n",
        "- Integer : `np.short`\n",
        "- Long : `np.int_`\n",
        "- Float : `np.single`&np.float32`\n",
        "- Double :`np.double`&`np.float64`\n",
        "- `np.int8`: integer (-128 to 127)\n",
        "- `np.int16`:integer( -32768 to 32767)\n",
        "- `np.int32`: integer(-2147483648 to 2147483647)\n",
        "- `np.int64`:integer( -9223372036854775808 to 9223372036854775807)\n",
        "\n",
        "\n",
        "Sometimes, you will need to load, create or export arrays from different data types.\n"
      ]
    },
    {
      "cell_type": "code",
      "execution_count": 164,
      "id": "890bde78",
      "metadata": {
        "id": "890bde78"
      },
      "outputs": [],
      "source": [
        ""
      ]
    },
    {
      "cell_type": "markdown",
      "id": "f1ae2c2d",
      "metadata": {
        "id": "f1ae2c2d"
      },
      "source": [
        "## Harder exercises\n",
        "\n",
        "The next exercises are related with real situations you could face while you are working in data science and machine learning. Also, we will be frequently talking about matrices and bidimensional arrays."
      ]
    },
    {
      "cell_type": "markdown",
      "id": "759c9c8d",
      "metadata": {
        "id": "759c9c8d"
      },
      "source": [
        "#### Exercise: Subtract the mean of each row of a matrix (★★☆)"
      ]
    },
    {
      "cell_type": "code",
      "execution_count": 170,
      "id": "6801c73d",
      "metadata": {
        "colab": {
          "base_uri": "https://localhost:8080/"
        },
        "id": "6801c73d",
        "outputId": "ba931a50-5cb1-41d6-e940-3826558f72ad"
      },
      "outputs": [
        {
          "output_type": "stream",
          "name": "stdout",
          "text": [
            "Matriz random 5x3:\n",
            "[[0.38971107 0.37844955 0.68867662]\n",
            " [0.55134929 0.39602154 0.04548827]\n",
            " [0.00465921 0.74837516 0.36441212]\n",
            " [0.37389851 0.05109153 0.86517337]\n",
            " [0.16720376 0.43329208 0.67672395]]\n",
            "Media por fila:\n",
            "[0.48561241 0.33095303 0.37248216 0.43005447 0.42573993]\n"
          ]
        }
      ],
      "source": [
        "print(\"Matriz random 5x3:\")\n",
        "ab= np.random.random((5,3))\n",
        "print(ab)\n",
        "\n",
        "print(\"Media por fila:\")\n",
        "print(np.mean(ab, axis=1)) #Con axis especificás cómo querés que calcule la media"
      ]
    },
    {
      "cell_type": "markdown",
      "id": "129c342d",
      "metadata": {
        "id": "129c342d"
      },
      "source": [
        "#### Exercise: How to get the dates of yesterday, today and tomorrow? (★★☆)\n",
        "\n",
        ">Check `np.datetime64`, `np.timedelta64` in numpy (https://numpy.org/doc/stable/reference/arrays.datetime.html)"
      ]
    },
    {
      "cell_type": "code",
      "execution_count": 185,
      "id": "8ba1badb",
      "metadata": {
        "colab": {
          "base_uri": "https://localhost:8080/"
        },
        "id": "8ba1badb",
        "outputId": "8918ec44-97a5-46f2-b20c-a8ab9688b58d"
      },
      "outputs": [
        {
          "output_type": "stream",
          "name": "stdout",
          "text": [
            "2022-05-18\n",
            "2022-05-17\n",
            "2022-05-19\n"
          ]
        }
      ],
      "source": [
        "print(np.datetime64('today', 'D')) #Today\n",
        "\n",
        "print(np.datetime64('today', 'D') - np.timedelta64(1,'D')) #Yesterday\n",
        "\n",
        "print(np.datetime64('today', 'D') + np.timedelta64(1,'D')) #Tomorrow"
      ]
    },
    {
      "cell_type": "markdown",
      "id": "42f8b2f9",
      "metadata": {
        "id": "42f8b2f9"
      },
      "source": [
        "#### Exercise: How to get all the dates corresponding to the month of December 2022? (★★☆)\n",
        "Combine `arange`with `datetime`\n"
      ]
    },
    {
      "cell_type": "code",
      "execution_count": 190,
      "id": "eb8ebe45",
      "metadata": {
        "colab": {
          "base_uri": "https://localhost:8080/"
        },
        "id": "eb8ebe45",
        "outputId": "0cc6de91-c132-45d9-d1e8-572a0b04f110"
      },
      "outputs": [
        {
          "output_type": "stream",
          "name": "stdout",
          "text": [
            "['2022-12-01' '2022-12-02' '2022-12-03' '2022-12-04' '2022-12-05'\n",
            " '2022-12-06' '2022-12-07' '2022-12-08' '2022-12-09' '2022-12-10'\n",
            " '2022-12-11' '2022-12-12' '2022-12-13' '2022-12-14' '2022-12-15'\n",
            " '2022-12-16' '2022-12-17' '2022-12-18' '2022-12-19' '2022-12-20'\n",
            " '2022-12-21' '2022-12-22' '2022-12-23' '2022-12-24' '2022-12-25'\n",
            " '2022-12-26' '2022-12-27' '2022-12-28' '2022-12-29' '2022-12-30']\n"
          ]
        }
      ],
      "source": [
        "print(np.arange(np.datetime64('2022-12-01'), np.datetime64('2022-12-31')))"
      ]
    },
    {
      "cell_type": "markdown",
      "id": "486df8ea",
      "metadata": {
        "id": "486df8ea"
      },
      "source": [
        "#### Exercise: Extract the integer part of a random array of positive numbers using 2 different methods (★★☆)"
      ]
    },
    {
      "cell_type": "code",
      "execution_count": null,
      "id": "34b4fa08",
      "metadata": {
        "id": "34b4fa08"
      },
      "outputs": [],
      "source": [
        ""
      ]
    },
    {
      "cell_type": "markdown",
      "id": "649e89f9",
      "metadata": {
        "id": "649e89f9"
      },
      "source": [
        "#### Exercise: Create a 5x5 matrix with row values ranging from 0 to 4 (★★☆)"
      ]
    },
    {
      "cell_type": "code",
      "execution_count": 209,
      "id": "663cc611",
      "metadata": {
        "colab": {
          "base_uri": "https://localhost:8080/"
        },
        "id": "663cc611",
        "outputId": "78e8e79b-bcb0-4761-b414-e4bc2eca644e"
      },
      "outputs": [
        {
          "output_type": "stream",
          "name": "stdout",
          "text": [
            "[[0. 0. 0. 0. 0.]\n",
            " [0. 0. 0. 0. 0.]\n",
            " [0. 0. 0. 0. 0.]\n",
            " [0. 0. 0. 0. 0.]\n",
            " [0. 0. 0. 0. 0.]]\n",
            "[[0. 1. 2. 3. 4.]\n",
            " [0. 1. 2. 3. 4.]\n",
            " [0. 1. 2. 3. 4.]\n",
            " [0. 1. 2. 3. 4.]\n",
            " [0. 1. 2. 3. 4.]]\n"
          ]
        }
      ],
      "source": [
        "matriz = np.zeros((5,5)) #Matriz de 5x5 con valores 0\n",
        "print(matriz)\n",
        "matriz += np.arange(5) \n",
        "print(matriz)\n"
      ]
    },
    {
      "cell_type": "markdown",
      "id": "3421e17f",
      "metadata": {
        "id": "3421e17f"
      },
      "source": [
        "#### Exercise: Consider a generator function that generates 10 integers and use it to build an array (★★☆)"
      ]
    },
    {
      "cell_type": "code",
      "execution_count": null,
      "id": "7336b8e4",
      "metadata": {
        "id": "7336b8e4"
      },
      "outputs": [],
      "source": [
        "### Pending"
      ]
    },
    {
      "cell_type": "markdown",
      "id": "483dd554",
      "metadata": {
        "id": "483dd554"
      },
      "source": [
        "#### Exercise: Create a vector of size 10 with values ranging from 0 to 1, both excluded (★★☆)"
      ]
    },
    {
      "cell_type": "code",
      "execution_count": 214,
      "id": "c89b93e7",
      "metadata": {
        "colab": {
          "base_uri": "https://localhost:8080/"
        },
        "id": "c89b93e7",
        "outputId": "df5a1109-fb90-4863-9f3c-b6699be491a1"
      },
      "outputs": [
        {
          "output_type": "stream",
          "name": "stdout",
          "text": [
            "[0.09090909 0.18181818 0.27272727 0.36363636 0.45454545 0.54545455\n",
            " 0.63636364 0.72727273 0.81818182 0.90909091]\n"
          ]
        }
      ],
      "source": [
        "vector = np.linspace(0, 1, 11, endpoint=False)[1:] #Con el 11 agrego un valor más porque son el [1:] le borro el primero\n",
        "print(vector)"
      ]
    },
    {
      "cell_type": "markdown",
      "id": "2d07be1c",
      "metadata": {
        "id": "2d07be1c"
      },
      "source": [
        "#### Exercise: Create a random vector of size 10 and sort it (★★☆)"
      ]
    },
    {
      "cell_type": "code",
      "execution_count": 222,
      "id": "4f7cb3ad",
      "metadata": {
        "colab": {
          "base_uri": "https://localhost:8080/"
        },
        "id": "4f7cb3ad",
        "outputId": "10c2a276-3f14-47d7-9b1e-4d3f93ee0342"
      },
      "outputs": [
        {
          "output_type": "stream",
          "name": "stdout",
          "text": [
            "[0.73403043 0.13155964 0.44450867 0.27708179 0.40622442 0.52041647\n",
            " 0.67895513 0.56972024 0.31748167 0.78920325]\n"
          ]
        },
        {
          "output_type": "execute_result",
          "data": {
            "text/plain": [
              "array([0.13155964, 0.27708179, 0.31748167, 0.40622442, 0.44450867,\n",
              "       0.52041647, 0.56972024, 0.67895513, 0.73403043, 0.78920325])"
            ]
          },
          "metadata": {},
          "execution_count": 222
        }
      ],
      "source": [
        "vec = (np.random.random(10))\n",
        "print(vec)\n",
        "\n",
        "np.sort(vec)"
      ]
    },
    {
      "cell_type": "markdown",
      "id": "fe043549",
      "metadata": {
        "id": "fe043549"
      },
      "source": [
        "#### Exercise: Consider two random arrays A and B, check if they are equal (★★☆)"
      ]
    },
    {
      "cell_type": "code",
      "execution_count": 231,
      "id": "3326a686",
      "metadata": {
        "colab": {
          "base_uri": "https://localhost:8080/"
        },
        "id": "3326a686",
        "outputId": "aefa32df-b3d2-43a5-dc12-6093ba9a07f2"
      },
      "outputs": [
        {
          "output_type": "stream",
          "name": "stdout",
          "text": [
            "[[1 2]\n",
            " [3 4]]\n",
            "[[1 2]\n",
            " [3 5]]\n",
            "False\n"
          ]
        },
        {
          "output_type": "execute_result",
          "data": {
            "text/plain": [
              "True"
            ]
          },
          "metadata": {},
          "execution_count": 231
        }
      ],
      "source": [
        "a = np.array([[1, 2], [3, 4]])\n",
        "b = np.array([[1, 2], [3, 5]])\n",
        "c =  np.array([[1, 2], [3, 4]])\n",
        "print(a)\n",
        "print(b)\n",
        "\n",
        "np.array_equal(a,b) #False\n",
        "np.array_equal(a,c) #True"
      ]
    },
    {
      "cell_type": "markdown",
      "id": "2002cb03",
      "metadata": {
        "id": "2002cb03"
      },
      "source": [
        "#### Exercise: Consider a random 10x2 matrix representing cartesian coordinates, convert them to polar coordinates (★★★)\n",
        ">Suggestion: check how to calculate the \"square of a matrix\""
      ]
    },
    {
      "cell_type": "code",
      "execution_count": null,
      "id": "58be72bc",
      "metadata": {
        "id": "58be72bc"
      },
      "outputs": [],
      "source": [
        "#z= np.random.random((10,2))\n",
        "#x,y = z[:,0], z[:,1]\n",
        "#r = np.sqrt(x**2+y**2)\n",
        "#t = np.arctan2(y,x)\n",
        "#print(r)\n",
        "#print(t)"
      ]
    },
    {
      "cell_type": "markdown",
      "id": "b7109c9f",
      "metadata": {
        "id": "b7109c9f"
      },
      "source": [
        "#### Exercise: Create random vector of size 10 and replace the maximum value by 0 (★★☆)"
      ]
    },
    {
      "cell_type": "code",
      "execution_count": 252,
      "id": "f79e79a7",
      "metadata": {
        "colab": {
          "base_uri": "https://localhost:8080/"
        },
        "id": "f79e79a7",
        "outputId": "4d9f8210-a891-494b-c783-42a0566a5d62"
      },
      "outputs": [
        {
          "output_type": "stream",
          "name": "stdout",
          "text": [
            "[0.4417279  0.26033688 0.05234901 0.04981985 0.91588997 0.3397557\n",
            " 0.17223676 0.70004747 0.25712144 0.41297221]\n",
            "[0.4417279  0.26033688 0.05234901 0.04981985 0.         0.3397557\n",
            " 0.17223676 0.70004747 0.25712144 0.41297221]\n"
          ]
        }
      ],
      "source": [
        "arr = np.random.random(10)\n",
        "print(arr)\n",
        "arr[arr.argmax()] = 0\n",
        "print(arr)"
      ]
    },
    {
      "cell_type": "markdown",
      "id": "fb24674c",
      "metadata": {
        "id": "fb24674c"
      },
      "source": [
        "#### Exercise: How to print all the values of an array? (★★☆)"
      ]
    },
    {
      "cell_type": "code",
      "execution_count": null,
      "id": "c81f1456",
      "metadata": {
        "id": "c81f1456"
      },
      "outputs": [],
      "source": [
        "#np.set_printoptions con esto se setean las opciones para configurar cómo printea y que no printee arrays truncados\n",
        "#np.set_printoptions(threshold=np.inf, linewidth=np.nan)"
      ]
    },
    {
      "cell_type": "markdown",
      "id": "48413134",
      "metadata": {
        "id": "48413134"
      },
      "source": [
        "#### Exercise: How to convert a float (32 bits) array into an integer (32 bits) in place?\n",
        ">Check: https://stackoverflow.com/a/4396247/5989906"
      ]
    },
    {
      "cell_type": "code",
      "execution_count": 260,
      "id": "5db64b6d",
      "metadata": {
        "colab": {
          "base_uri": "https://localhost:8080/"
        },
        "id": "5db64b6d",
        "outputId": "fa334aea-b5e6-4383-f56f-df560b2af68b"
      },
      "outputs": [
        {
          "output_type": "stream",
          "name": "stdout",
          "text": [
            "[0 1 2 3 4 5 6 7 8 9]\n",
            "int32\n",
            "[0. 1. 2. 3. 4. 5. 6. 7. 8. 9.]\n",
            "float32\n"
          ]
        }
      ],
      "source": [
        "x = np.arange(10, dtype='int32')\n",
        "print(x)\n",
        "print(x.dtype)\n",
        "y = x.view('float32')\n",
        "y[:] = x\n",
        "\n",
        "print(y)\n",
        "print(y.dtype)"
      ]
    },
    {
      "cell_type": "markdown",
      "id": "215b6acc",
      "metadata": {
        "id": "215b6acc"
      },
      "source": [
        "#### Exercise: Subtract the mean of each row of a matrix (★★☆)"
      ]
    },
    {
      "cell_type": "code",
      "execution_count": null,
      "id": "dd1adef4",
      "metadata": {
        "id": "dd1adef4"
      },
      "outputs": [],
      "source": [
        "#Este ejercicio ya está hecho más arriba\n",
        "print(\"Matriz random 5x3:\")\n",
        "ab= np.random.random((5,3))\n",
        "print(ab)\n",
        "\n",
        "print(\"Media por fila:\")\n",
        "print(np.mean(ab, axis=1)) #Con axis especificás cómo querés que calcule la media"
      ]
    },
    {
      "cell_type": "markdown",
      "id": "c0cf37e0",
      "metadata": {
        "id": "c0cf37e0"
      },
      "source": [
        "#### Exercise: How to sort an array by the nth column? (★★☆)"
      ]
    },
    {
      "cell_type": "code",
      "execution_count": null,
      "id": "9336ca5f",
      "metadata": {
        "id": "9336ca5f"
      },
      "outputs": [],
      "source": [
        ""
      ]
    },
    {
      "cell_type": "markdown",
      "id": "c17fb213",
      "metadata": {
        "id": "c17fb213"
      },
      "source": [
        "#### Exercise: Find the position of the minimum of a 2D matrix (★★☆)"
      ]
    },
    {
      "cell_type": "code",
      "execution_count": null,
      "id": "7fdda78d",
      "metadata": {
        "id": "7fdda78d"
      },
      "outputs": [],
      "source": [
        ""
      ]
    },
    {
      "cell_type": "markdown",
      "id": "f4427f7f",
      "metadata": {
        "id": "f4427f7f"
      },
      "source": [
        "#### Exercise: Read an image using openCV, check its dimensions, normalize the numbers and show the image (★★★)\n",
        "\n",
        ">Check: https://www.geeksforgeeks.org/python-opencv-cv2-imread-method/"
      ]
    },
    {
      "cell_type": "code",
      "execution_count": null,
      "id": "fe253212",
      "metadata": {
        "id": "fe253212"
      },
      "outputs": [],
      "source": [
        ""
      ]
    },
    {
      "cell_type": "markdown",
      "id": "33c986d9",
      "metadata": {
        "id": "33c986d9"
      },
      "source": [
        "#### Exercise: Considering a four dimensions array, how to get the sum over the last two axis at once? (★★★)"
      ]
    },
    {
      "cell_type": "code",
      "execution_count": null,
      "id": "a99a50e2",
      "metadata": {
        "id": "a99a50e2"
      },
      "outputs": [],
      "source": [
        ""
      ]
    },
    {
      "cell_type": "markdown",
      "id": "928a1a15",
      "metadata": {
        "id": "928a1a15"
      },
      "source": [
        "#### Exercise: How to get the diagonal of a dot product? (★★★)"
      ]
    },
    {
      "cell_type": "code",
      "execution_count": null,
      "id": "ef2c9ddd",
      "metadata": {
        "id": "ef2c9ddd"
      },
      "outputs": [],
      "source": [
        ""
      ]
    },
    {
      "cell_type": "markdown",
      "id": "f62551d8",
      "metadata": {
        "id": "f62551d8"
      },
      "source": [
        "#### Exercise: Consider an array of dimension (5,5,3), how to mulitply it by an array with dimensions (5,5)? (★★★)"
      ]
    },
    {
      "cell_type": "code",
      "execution_count": null,
      "id": "9ab241b7",
      "metadata": {
        "id": "9ab241b7"
      },
      "outputs": [],
      "source": [
        ""
      ]
    },
    {
      "cell_type": "markdown",
      "id": "6896e326",
      "metadata": {
        "id": "6896e326"
      },
      "source": [
        "#### Exercise: How to swap two rows of an array? (★★★)"
      ]
    },
    {
      "cell_type": "code",
      "execution_count": null,
      "id": "9e8fcba9",
      "metadata": {
        "id": "9e8fcba9"
      },
      "outputs": [],
      "source": [
        ""
      ]
    },
    {
      "cell_type": "markdown",
      "id": "8e83df46",
      "metadata": {
        "id": "8e83df46"
      },
      "source": [
        "#### Exercise: Read an image using openCV and tranpose it. What did you get exactly? Was the image rotated? Moved? Reflected with respect to an axis? (★★★)"
      ]
    },
    {
      "cell_type": "code",
      "execution_count": null,
      "id": "f73127b7",
      "metadata": {
        "id": "f73127b7"
      },
      "outputs": [],
      "source": [
        ""
      ]
    },
    {
      "cell_type": "markdown",
      "id": "781fa236",
      "metadata": {
        "id": "781fa236"
      },
      "source": [
        "#### Exercise: Consider an array Z = [1,2,3,4,5,6,7,8,9,10,11,12,13,14], how to generate an array R = [[1,2,3,4], [2,3,4,5], [3,4,5,6], ..., [11,12,13,14]]? (★★★)"
      ]
    },
    {
      "cell_type": "code",
      "execution_count": null,
      "id": "8e84d3c2",
      "metadata": {
        "id": "8e84d3c2"
      },
      "outputs": [],
      "source": [
        ""
      ]
    },
    {
      "cell_type": "markdown",
      "id": "7d8dc135",
      "metadata": {
        "id": "7d8dc135"
      },
      "source": [
        "#### Exercise: How to find the most frequent value in an array? (★★★)"
      ]
    },
    {
      "cell_type": "code",
      "execution_count": null,
      "id": "3978a7a2",
      "metadata": {
        "id": "3978a7a2"
      },
      "outputs": [],
      "source": [
        ""
      ]
    },
    {
      "cell_type": "markdown",
      "id": "4c70397b",
      "metadata": {
        "id": "4c70397b"
      },
      "source": [
        "#### Exercise: How to get the n largest values of an array (★★★)"
      ]
    },
    {
      "cell_type": "code",
      "execution_count": null,
      "id": "16371718",
      "metadata": {
        "id": "16371718"
      },
      "outputs": [],
      "source": [
        ""
      ]
    },
    {
      "cell_type": "markdown",
      "id": "d94352b6",
      "metadata": {
        "id": "d94352b6"
      },
      "source": [
        "#### Exercise: Consider a large vector Z, compute Z to the power of 3 using 3 different methods (★★★)"
      ]
    },
    {
      "cell_type": "code",
      "execution_count": null,
      "id": "301ba8a8",
      "metadata": {
        "id": "301ba8a8"
      },
      "outputs": [],
      "source": [
        ""
      ]
    },
    {
      "cell_type": "markdown",
      "id": "2784c996",
      "metadata": {
        "id": "2784c996"
      },
      "source": [
        "#### Exercise: Given a two dimensional array, how to extract unique rows? (★★★)"
      ]
    },
    {
      "cell_type": "code",
      "execution_count": null,
      "id": "f030595f",
      "metadata": {
        "id": "f030595f"
      },
      "outputs": [],
      "source": [
        ""
      ]
    },
    {
      "cell_type": "markdown",
      "id": "e5737276",
      "metadata": {
        "id": "e5737276"
      },
      "source": [
        "#### Exercise: Can you have an array of strings? Can you mix different data types in the same array? Can you operate (add, sub, mult) arrays with different data types? (★★★)"
      ]
    },
    {
      "cell_type": "code",
      "execution_count": null,
      "id": "68c333b0",
      "metadata": {
        "id": "68c333b0"
      },
      "outputs": [],
      "source": [
        ""
      ]
    }
  ],
  "metadata": {
    "kernelspec": {
      "display_name": "Python 3",
      "language": "python",
      "name": "python3"
    },
    "language_info": {
      "codemirror_mode": {
        "name": "ipython",
        "version": 3
      },
      "file_extension": ".py",
      "mimetype": "text/x-python",
      "name": "python",
      "nbconvert_exporter": "python",
      "pygments_lexer": "ipython3",
      "version": "3.8.12"
    },
    "colab": {
      "name": "02.1-Intro-to-Numpy.ipynb",
      "provenance": []
    }
  },
  "nbformat": 4,
  "nbformat_minor": 5
}